{
 "cells": [
  {
   "cell_type": "code",
   "execution_count": 7,
   "metadata": {},
   "outputs": [
    {
     "name": "stdout",
     "output_type": "stream",
     "text": [
      "2.283333333333333\n"
     ]
    }
   ],
   "source": [
    "def recursion(num):\n",
    "    i=1\n",
    "    sum=0\n",
    "    for i in range(1,num+1):\n",
    "        sum=sum+1/i\n",
    "    return sum\n",
    "num=5\n",
    "print(recursion(num))"
   ]
  },
  {
   "cell_type": "code",
   "execution_count": 11,
   "metadata": {},
   "outputs": [
    {
     "name": "stdout",
     "output_type": "stream",
     "text": [
      "16.0\n"
     ]
    }
   ],
   "source": [
    "def percentchanged(old,new):\n",
    "    if old>new:\n",
    "        amountchanged=old-new\n",
    "        percentchanged=(amountchanged/old)*100\n",
    "    else:\n",
    "        amountchanged=new-old\n",
    "        percentchanged=(amountchanged/new)*100\n",
    "    return percentchanged\n",
    "print(percentchanged(1000,840))\n",
    "    \n",
    "    "
   ]
  },
  {
   "cell_type": "code",
   "execution_count": 23,
   "metadata": {},
   "outputs": [
    {
     "name": "stdout",
     "output_type": "stream",
     "text": [
      "2\n"
     ]
    }
   ],
   "source": [
    "def iterativesquare(num):\n",
    "    sqr=num**(1/2)\n",
    "    if sqr>2:\n",
    "        sqr=sqr**(1/2)\n",
    "    return sqr\n",
    "print(int(iterativesquare(27)))"
   ]
  },
  {
   "cell_type": "code",
   "execution_count": 68,
   "metadata": {},
   "outputs": [
    {
     "name": "stdout",
     "output_type": "stream",
     "text": [
      "[36, 22] [4, 60]\n"
     ]
    },
    {
     "data": {
      "text/plain": [
       "9.0"
      ]
     },
     "execution_count": 68,
     "metadata": {},
     "output_type": "execute_result"
    }
   ],
   "source": [
    "def sumfractions(list):\n",
    "    c=[i[0] for i in list] \n",
    "    d=[i[-1] for i in list]\n",
    "    print(c,d)\n",
    "    f1=c[0]/d[0]\n",
    "    f2=c[1]/d[1]\n",
    "#     f3=c[2]/d[2]\n",
    "#     f4=c[3]/d[3]\n",
    "#     f5=c[4]/d[4]\n",
    "    f=f1+f2\n",
    "    return f\n",
    "x=(sumfractions([[36, 4], [22, 60]]))\n",
    "y=round(x,0)\n",
    "y"
   ]
  },
  {
   "cell_type": "code",
   "execution_count": null,
   "metadata": {},
   "outputs": [],
   "source": []
  },
  {
   "cell_type": "code",
   "execution_count": 86,
   "metadata": {},
   "outputs": [
    {
     "data": {
      "text/plain": [
       "'hi i am Sam and i am from Argentina'"
      ]
     },
     "execution_count": 86,
     "metadata": {},
     "output_type": "execute_result"
    }
   ],
   "source": [
    "def guestlist(name,dictionary):\n",
    "    for person,country in dictionary.items():\n",
    "        if person==name:\n",
    "            return\"hi i am {} and i am from {}\".format(person,country)\n",
    "GUEST_LIST = {\n",
    "\"Randy\": \"Germany\",\n",
    "\"Karla\": \"France\",\n",
    "\"Wendy\": \"Japan\",\n",
    "\"Norman\": \"England\",\n",
    "\"Sam\": \"Argentina\"\n",
    "}\n",
    "guestlist('Sam',GUEST_LIST)"
   ]
  },
  {
   "cell_type": "code",
   "execution_count": null,
   "metadata": {},
   "outputs": [],
   "source": []
  },
  {
   "cell_type": "code",
   "execution_count": 23,
   "metadata": {},
   "outputs": [
    {
     "name": "stdout",
     "output_type": "stream",
     "text": [
      "Ayam\n",
      "Poudel\n"
     ]
    }
   ],
   "source": [
    "def uppercase(list1):\n",
    "    for i in list1:\n",
    "        if i[0].isupper():\n",
    "            print(i)\n",
    "    \n",
    "            \n",
    "list1=['Ayam',\"Poudel\",'caPiTal']\n",
    "uppercase(list1)"
   ]
  },
  {
   "cell_type": "code",
   "execution_count": 9,
   "metadata": {},
   "outputs": [
    {
     "name": "stdout",
     "output_type": "stream",
     "text": [
      "[0, 4, 6]\n"
     ]
    }
   ],
   "source": [
    "def countitems(list,n):\n",
    "    indices = [i for i, x in enumerate(list) if x == n]\n",
    "    return indices\n",
    "list=[1,2,3,4,1,5,1,6,6,6,6]\n",
    "print(countitems(list,1))"
   ]
  },
  {
   "cell_type": "code",
   "execution_count": 130,
   "metadata": {},
   "outputs": [
    {
     "name": "stdout",
     "output_type": "stream",
     "text": [
      "Just\n",
      "Praticing\n",
      "Python\n"
     ]
    }
   ],
   "source": [
    "def emphasize(string):\n",
    "    word=string.split(\" \")\n",
    "    for i in word:\n",
    "        print(i.capitalize())\n",
    "string=\"just pRAticing PYTHON\"\n",
    "emphasize(string)"
   ]
  },
  {
   "cell_type": "code",
   "execution_count": 135,
   "metadata": {},
   "outputs": [
    {
     "data": {
      "text/plain": [
       "True"
      ]
     },
     "execution_count": 135,
     "metadata": {},
     "output_type": "execute_result"
    }
   ],
   "source": [
    "def lastdigit(num1,num2,num3):\n",
    "    ln1=num1%10\n",
    "    ln2=num2%10\n",
    "    ln3=num3%10\n",
    "    if ln1*ln2==ln3:\n",
    "        return True\n",
    "    else:\n",
    "        return False\n",
    "lastdigit(25,21,125)\n"
   ]
  },
  {
   "cell_type": "code",
   "execution_count": 142,
   "metadata": {},
   "outputs": [
    {
     "data": {
      "text/plain": [
       "9"
      ]
     },
     "execution_count": 142,
     "metadata": {},
     "output_type": "execute_result"
    }
   ],
   "source": [
    "def countboxes(step):\n",
    "    if step==0:\n",
    "        return 0\n",
    "    elif step%2:\n",
    "        return countboxes(step-1)+3\n",
    "    else:\n",
    "        return countboxes(step-1)-1\n",
    "\n",
    "    \n",
    "countboxes(7)"
   ]
  },
  {
   "cell_type": "code",
   "execution_count": 154,
   "metadata": {},
   "outputs": [
    {
     "data": {
      "text/plain": [
       "True"
      ]
     },
     "execution_count": 154,
     "metadata": {},
     "output_type": "execute_result"
    }
   ],
   "source": [
    "import math\n",
    "def issastry(num):\n",
    "    successor=num+1\n",
    "    newnum=str(num)+str(successor)\n",
    "    x=int(newnum)\n",
    "    root=int(math.sqrt(x))\n",
    "    if(x==root*root):\n",
    "        return True\n",
    "    else:\n",
    "        return False\n",
    "issastry(106755)"
   ]
  },
  {
   "cell_type": "code",
   "execution_count": 164,
   "metadata": {},
   "outputs": [
    {
     "name": "stdout",
     "output_type": "stream",
     "text": [
      "evenish\n"
     ]
    }
   ],
   "source": [
    "def oddeven(num):\n",
    "    x=num\n",
    "    sum=0\n",
    "    c=0\n",
    "    while(num>0):\n",
    "        c=num%10\n",
    "        sum=sum+c\n",
    "        num=int(num/10)\n",
    "    if sum%2==0:\n",
    "        print(\"evenish\")\n",
    "    else:\n",
    "        print(\"oddish\")\n",
    "oddeven(4433)"
   ]
  },
  {
   "cell_type": "code",
   "execution_count": 185,
   "metadata": {},
   "outputs": [
    {
     "name": "stdout",
     "output_type": "stream",
     "text": [
      "4\n",
      "5\n"
     ]
    }
   ],
   "source": [
    "def numoflists(list):\n",
    "    x=len(list)\n",
    "    return x\n",
    "list=[[1,2,3],[1,2,4],[25,6,6],[1,'s',6]]\n",
    "list1=[[1,2,3],[1,2],[1,2,5],[64,34,34],[13,56,45]]\n",
    "print(numoflists(list))\n",
    "print(numoflists(list1))\n",
    "\n"
   ]
  },
  {
   "cell_type": "code",
   "execution_count": 190,
   "metadata": {},
   "outputs": [
    {
     "data": {
      "text/plain": [
       "2"
      ]
     },
     "execution_count": 190,
     "metadata": {},
     "output_type": "execute_result"
    }
   ],
   "source": [
    "def countoverlapping(list,item):\n",
    "    overlap=0\n",
    "    for i in list:\n",
    "        if i[0]==item or i[1]==item:\n",
    "            overlap=overlap+1\n",
    "        elif i[0]<item and i[-1]>item:\n",
    "            overlap=overlap+1\n",
    "    return overlap\n",
    "list=[[2,4],[4,6],[3,5],[1,2]]\n",
    "list2=[[1, 2], [5, 8], [6, 9]]\n",
    "countoverlapping(list,4)\n",
    "countoverlapping(list2,7)\n",
    "            \n",
    "    "
   ]
  },
  {
   "cell_type": "code",
   "execution_count": 196,
   "metadata": {},
   "outputs": [
    {
     "data": {
      "text/plain": [
       "[4, 4, 4, 4, 5, 5, 7, 8, 1, 2, 3]"
      ]
     },
     "execution_count": 196,
     "metadata": {},
     "output_type": "execute_result"
    }
   ],
   "source": [
    "def concat(lists):\n",
    "    list=[]\n",
    "    for i in lists:\n",
    "        list.extend(i)\n",
    "    return list\n",
    "lists=[[1,2],[3,4],[5,6]]\n",
    "lists2=[[4,4,4,4,5,5,7,8],[1,2,3]]\n",
    "concat(lists)\n",
    "concat(lists2)"
   ]
  },
  {
   "cell_type": "code",
   "execution_count": 204,
   "metadata": {},
   "outputs": [
    {
     "data": {
      "text/plain": [
       "True"
      ]
     },
     "execution_count": 204,
     "metadata": {},
     "output_type": "execute_result"
    }
   ],
   "source": [
    "import math\n",
    "def root(num1,num2):\n",
    "    sqroot=math.sqrt(num1)\n",
    "    cuberoot=num2**(1/3)\n",
    "    if sqroot==cuberoot:\n",
    "        return True\n",
    "    else:\n",
    "        return False\n",
    "root(25,125)"
   ]
  },
  {
   "cell_type": "code",
   "execution_count": 218,
   "metadata": {},
   "outputs": [
    {
     "name": "stdout",
     "output_type": "stream",
     "text": [
      "ayam\n",
      "110\n",
      "23\n",
      "97\n",
      "intern\n",
      "112\n"
     ]
    }
   ],
   "source": [
    "def asci(dict):\n",
    "    for i in dict:\n",
    "        print(dict[i])\n",
    "        print(ord(i))\n",
    "dict={'n':'ayam',\n",
    "     'a':23,\n",
    "     'p':'intern'}\n",
    "asci(dict)"
   ]
  },
  {
   "cell_type": "code",
   "execution_count": 232,
   "metadata": {},
   "outputs": [
    {
     "name": "stdout",
     "output_type": "stream",
     "text": [
      "('name', 'momo')\n",
      "too expensive\n"
     ]
    },
    {
     "ename": "RuntimeError",
     "evalue": "dictionary changed size during iteration",
     "output_type": "error",
     "traceback": [
      "\u001b[1;31m---------------------------------------------------------------------------\u001b[0m",
      "\u001b[1;31mRuntimeError\u001b[0m                              Traceback (most recent call last)",
      "\u001b[1;32m<ipython-input-232-1a4361934c6a>\u001b[0m in \u001b[0;36m<module>\u001b[1;34m\u001b[0m\n\u001b[0;32m      6\u001b[0m             \u001b[0mdict\u001b[0m\u001b[1;33m.\u001b[0m\u001b[0mpop\u001b[0m\u001b[1;33m(\u001b[0m\u001b[1;34m'price'\u001b[0m\u001b[1;33m)\u001b[0m\u001b[1;33m\u001b[0m\u001b[1;33m\u001b[0m\u001b[0m\n\u001b[0;32m      7\u001b[0m \u001b[0mdict\u001b[0m\u001b[1;33m=\u001b[0m\u001b[1;33m{\u001b[0m\u001b[1;34m'name'\u001b[0m\u001b[1;33m:\u001b[0m\u001b[1;34m'momo'\u001b[0m\u001b[1;33m,\u001b[0m\u001b[1;34m'price'\u001b[0m\u001b[1;33m:\u001b[0m\u001b[1;36m120\u001b[0m\u001b[1;33m,\u001b[0m\u001b[1;34m'category'\u001b[0m\u001b[1;33m:\u001b[0m\u001b[1;34m'veg'\u001b[0m\u001b[1;33m}\u001b[0m\u001b[1;33m\u001b[0m\u001b[1;33m\u001b[0m\u001b[0m\n\u001b[1;32m----> 8\u001b[1;33m \u001b[0mexpensive_orders\u001b[0m\u001b[1;33m(\u001b[0m\u001b[0mdict\u001b[0m\u001b[1;33m)\u001b[0m\u001b[1;33m\u001b[0m\u001b[1;33m\u001b[0m\u001b[0m\n\u001b[0m",
      "\u001b[1;32m<ipython-input-232-1a4361934c6a>\u001b[0m in \u001b[0;36mexpensive_orders\u001b[1;34m(dict)\u001b[0m\n\u001b[0;32m      1\u001b[0m \u001b[1;32mdef\u001b[0m \u001b[0mexpensive_orders\u001b[0m\u001b[1;33m(\u001b[0m\u001b[0mdict\u001b[0m\u001b[1;33m)\u001b[0m\u001b[1;33m:\u001b[0m\u001b[1;33m\u001b[0m\u001b[1;33m\u001b[0m\u001b[0m\n\u001b[1;32m----> 2\u001b[1;33m     \u001b[1;32mfor\u001b[0m \u001b[0mi\u001b[0m \u001b[1;32min\u001b[0m \u001b[0mdict\u001b[0m\u001b[1;33m.\u001b[0m\u001b[0mitems\u001b[0m\u001b[1;33m(\u001b[0m\u001b[1;33m)\u001b[0m\u001b[1;33m:\u001b[0m\u001b[1;33m\u001b[0m\u001b[1;33m\u001b[0m\u001b[0m\n\u001b[0m\u001b[0;32m      3\u001b[0m         \u001b[0mprint\u001b[0m\u001b[1;33m(\u001b[0m\u001b[0mi\u001b[0m\u001b[1;33m)\u001b[0m\u001b[1;33m\u001b[0m\u001b[1;33m\u001b[0m\u001b[0m\n\u001b[0;32m      4\u001b[0m         \u001b[1;32mif\u001b[0m \u001b[0mdict\u001b[0m\u001b[1;33m.\u001b[0m\u001b[0mget\u001b[0m\u001b[1;33m(\u001b[0m\u001b[1;34m'price'\u001b[0m\u001b[1;33m)\u001b[0m\u001b[1;33m>\u001b[0m\u001b[1;36m110\u001b[0m\u001b[1;33m:\u001b[0m\u001b[1;33m\u001b[0m\u001b[1;33m\u001b[0m\u001b[0m\n\u001b[0;32m      5\u001b[0m             \u001b[0mprint\u001b[0m\u001b[1;33m(\u001b[0m\u001b[1;34m\"too expensive\"\u001b[0m\u001b[1;33m)\u001b[0m\u001b[1;33m\u001b[0m\u001b[1;33m\u001b[0m\u001b[0m\n",
      "\u001b[1;31mRuntimeError\u001b[0m: dictionary changed size during iteration"
     ]
    }
   ],
   "source": [
    "def expensive_orders(dict):\n",
    "    for i in dict.items():\n",
    "        print(i)\n",
    "        if dict.get('price')>110:\n",
    "            print(\"too expensive\")\n",
    "            dict.pop('price')\n",
    "dict={'name':'momo','price':120,'category':'veg'}\n",
    "expensive_orders(dict)"
   ]
  },
  {
   "cell_type": "code",
   "execution_count": null,
   "metadata": {},
   "outputs": [],
   "source": []
  }
 ],
 "metadata": {
  "kernelspec": {
   "display_name": "Python 3",
   "language": "python",
   "name": "python3"
  },
  "language_info": {
   "codemirror_mode": {
    "name": "ipython",
    "version": 3
   },
   "file_extension": ".py",
   "mimetype": "text/x-python",
   "name": "python",
   "nbconvert_exporter": "python",
   "pygments_lexer": "ipython3",
   "version": "3.8.5"
  }
 },
 "nbformat": 4,
 "nbformat_minor": 4
}
