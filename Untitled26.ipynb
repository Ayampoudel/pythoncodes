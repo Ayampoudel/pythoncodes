{
 "cells": [
  {
   "cell_type": "code",
   "execution_count": 13,
   "metadata": {},
   "outputs": [
    {
     "data": {
      "text/plain": [
       "5350"
      ]
     },
     "execution_count": 13,
     "metadata": {},
     "output_type": "execute_result"
    }
   ],
   "source": [
    "def bonus(workdays):\n",
    "    bonus=0\n",
    "    ndays=0\n",
    "    if workdays<=32:\n",
    "        bonus=0\n",
    "    elif workdays>32 and workdays<=40:\n",
    "        ndays=workdays-32\n",
    "        bonus=325*ndays\n",
    "    elif workdays>40 and workdays<=48:\n",
    "        ndays=workdays-40\n",
    "        bonus=8*325+550*ndays\n",
    "    elif workdays>48:\n",
    "        ndays=workdays-48\n",
    "        bonus=8*325+8*550+ndays*600\n",
    "    return bonus\n",
    "bonus(45)"
   ]
  },
  {
   "cell_type": "code",
   "execution_count": 24,
   "metadata": {},
   "outputs": [
    {
     "data": {
      "text/plain": [
       "\"['0x42', '0x69', '0x67', '0x20', '0x42', '0x6f', '0x69']\""
      ]
     },
     "execution_count": 24,
     "metadata": {},
     "output_type": "execute_result"
    }
   ],
   "source": [
    "def tohexa(string):\n",
    "    hexalist=[]\n",
    "    ordvalue=0\n",
    "    for i in string:\n",
    "        ordvalue=ord(i)\n",
    "        hexvalue=hex(ordvalue)\n",
    "        hexalist.append(hexvalue)\n",
    "        \n",
    "    outputstring=str(hexalist)\n",
    "    return outputstring\n",
    "        \n",
    "tohexa(\"Big Boi\")"
   ]
  },
  {
   "cell_type": "code",
   "execution_count": 57,
   "metadata": {},
   "outputs": [
    {
     "name": "stdout",
     "output_type": "stream",
     "text": [
      "sorry\n"
     ]
    }
   ],
   "source": [
    "def votelist(list1):\n",
    "    n=len(list1)\n",
    "    maxcount=0\n",
    "    index=-1\n",
    "    for i in range(n):\n",
    "        count=0\n",
    "        for j in range(n):\n",
    "            if list1[i]==list1[j]:\n",
    "                count=count+1\n",
    "        if count>maxcount:\n",
    "            maxcount=count\n",
    "            index=i\n",
    "    if maxcount>n/2:\n",
    "        print(list1[i])\n",
    "    else:\n",
    "        print(\"sorry\")\n",
    "list1=[]\n",
    "votelist(list1)\n"
   ]
  },
  {
   "cell_type": "code",
   "execution_count": null,
   "metadata": {},
   "outputs": [],
   "source": []
  },
  {
   "cell_type": "code",
   "execution_count": 78,
   "metadata": {},
   "outputs": [
    {
     "data": {
      "text/plain": [
       "'ayam poudel'"
      ]
     },
     "execution_count": 78,
     "metadata": {},
     "output_type": "execute_result"
    }
   ],
   "source": [
    "def censorwords(string,list1):\n",
    "    x=string.split()\n",
    "    for i in x:\n",
    "        if i in list:\n",
    "            string=string.replace(i,\"*\")\n",
    "            \n",
    "    return string\n",
    "            \n",
    "    \n",
    "string=\"ayam poudel\"\n",
    "list1=['ayam']\n",
    "censorwords(string,list1)"
   ]
  },
  {
   "cell_type": "code",
   "execution_count": 81,
   "metadata": {},
   "outputs": [
    {
     "data": {
      "text/plain": [
       "'%%%%%%%%%% is %%%%%%%%%%%%'"
      ]
     },
     "execution_count": 81,
     "metadata": {},
     "output_type": "execute_result"
    }
   ],
   "source": [
    "def censor_string(txt, lst, char):\n",
    "    l = txt.split(' ')\n",
    "\n",
    "    l2 = [Z.lower() for Z in lst]\n",
    "\n",
    "    return ' '.join([char*len(word) if word.lower() in l2 else word for word in l])\n",
    "\n",
    "censor_string(\"today is friday\",[\"today\",\"friday\"],\"%%\")"
   ]
  },
  {
   "cell_type": "code",
   "execution_count": 96,
   "metadata": {},
   "outputs": [
    {
     "data": {
      "text/plain": [
       "6"
      ]
     },
     "execution_count": 96,
     "metadata": {},
     "output_type": "execute_result"
    }
   ],
   "source": [
    "def blockmove(move1,move2):\n",
    "    if move1==0 and move2==2:\n",
    "        return 1\n",
    "    elif move1==0 and move2==1:\n",
    "        return 2\n",
    "    elif move1==1 and move2==2:\n",
    "        return 0\n",
    "    elif move1==0 and move2==3:\n",
    "        return 6\n",
    "    elif move2==0 and move2==6:\n",
    "        return 3\n",
    "    elif move1==3 and move2==6:\n",
    "        return 0\n",
    "    elif move1==3 and move2==0:\n",
    "        return 6\n",
    "    elif move1==0 and move2==4:\n",
    "        return 8\n",
    "    elif move1==0 and move2==8:\n",
    "        return 4\n",
    "    elif move1==4 and move2==8:\n",
    "        return 0\n",
    "    \n",
    "blockmove(3,0)"
   ]
  },
  {
   "cell_type": "code",
   "execution_count": 132,
   "metadata": {},
   "outputs": [
    {
     "name": "stdout",
     "output_type": "stream",
     "text": [
      "4\n",
      "8\n"
     ]
    }
   ],
   "source": [
    "def position(userinput,specifier):\n",
    "    n=len(userinput)\n",
    "    for i in range(n):\n",
    "        if specifier=='even':\n",
    "            if i%2==1:\n",
    "                print (userinput[i])\n",
    "        else:\n",
    "            if i%2==0:\n",
    "                print(userinput[i])\n",
    "                \n",
    "userinput=[2, 4, 6, 8, 10]\n",
    "specifier=\"even\"\n",
    "position(userinput,specifier)\n"
   ]
  },
  {
   "cell_type": "code",
   "execution_count": 147,
   "metadata": {},
   "outputs": [
    {
     "data": {
      "text/plain": [
       "744993"
      ]
     },
     "execution_count": 147,
     "metadata": {},
     "output_type": "execute_result"
    }
   ],
   "source": [
    "def rearrange(number):\n",
    "    list1 = [int(x) for x in str(number)] \n",
    "    list1.sort()\n",
    "    arnum=' '\n",
    "    for i in list1:\n",
    "        arnum=arnum+str(i)\n",
    "    difference=number-int(arnum)\n",
    "    return difference\n",
    "\n",
    "rearrange(972882)"
   ]
  },
  {
   "cell_type": "code",
   "execution_count": null,
   "metadata": {},
   "outputs": [],
   "source": []
  },
  {
   "cell_type": "code",
   "execution_count": 179,
   "metadata": {},
   "outputs": [
    {
     "data": {
      "text/plain": [
       "3"
      ]
     },
     "execution_count": 179,
     "metadata": {},
     "output_type": "execute_result"
    }
   ],
   "source": [
    "def power_ranger(n,num1,num2):\n",
    "    power=[]\n",
    "    for i in range(1,10):\n",
    "        power=power+[i**n]\n",
    "    count=-0\n",
    "    for i in power:\n",
    "        if i in range(num1,num2+1):\n",
    "            count=count+1\n",
    "    return count\n",
    "power_ranger(3, 1, 27)"
   ]
  },
  {
   "cell_type": "code",
   "execution_count": 208,
   "metadata": {},
   "outputs": [
    {
     "data": {
      "text/plain": [
       "True"
      ]
     },
     "execution_count": 208,
     "metadata": {},
     "output_type": "execute_result"
    }
   ],
   "source": [
    "def firstbeforesecond(string,firstletter,secondletter):\n",
    "    result1=0\n",
    "    result2=0\n",
    "    result1 = string.rfind(firstletter)\n",
    "    result2=string.rfind(secondletter)\n",
    "    if result1<result2:\n",
    "        return True\n",
    "    else:\n",
    "        return False\n",
    "\n",
    "    \n",
    "string=(\"a rabbit jumps joyfully\")\n",
    "firstletter='a'\n",
    "secondletter='j'\n",
    "firstbeforesecond(string,firstletter,secondletter)"
   ]
  },
  {
   "cell_type": "code",
   "execution_count": null,
   "metadata": {},
   "outputs": [],
   "source": []
  },
  {
   "cell_type": "code",
   "execution_count": null,
   "metadata": {},
   "outputs": [],
   "source": []
  },
  {
   "cell_type": "code",
   "execution_count": 222,
   "metadata": {},
   "outputs": [],
   "source": [
    "from collections import Counter \n",
    "\n",
    "def find_dup_char(input): \n",
    "\n",
    "    WC = Counter(input) \n",
    "    j = -1\n",
    "\n",
    "\n",
    "    for i in WC.values(): \n",
    "        j = j + 1\n",
    "        if( i > 1 ): \n",
    "            print (WC.keys()(j))\n",
    "\n",
    "find_dup_char(\"Ayam\")\n",
    " "
   ]
  },
  {
   "cell_type": "code",
   "execution_count": null,
   "metadata": {},
   "outputs": [],
   "source": []
  },
  {
   "cell_type": "code",
   "execution_count": null,
   "metadata": {},
   "outputs": [],
   "source": [
    "def countdatatypes(data):\n",
    "    "
   ]
  },
  {
   "cell_type": "code",
   "execution_count": null,
   "metadata": {},
   "outputs": [],
   "source": []
  },
  {
   "cell_type": "code",
   "execution_count": null,
   "metadata": {},
   "outputs": [],
   "source": []
  },
  {
   "cell_type": "code",
   "execution_count": null,
   "metadata": {},
   "outputs": [],
   "source": []
  },
  {
   "cell_type": "code",
   "execution_count": null,
   "metadata": {},
   "outputs": [],
   "source": []
  }
 ],
 "metadata": {
  "kernelspec": {
   "display_name": "Python 3",
   "language": "python",
   "name": "python3"
  },
  "language_info": {
   "codemirror_mode": {
    "name": "ipython",
    "version": 3
   },
   "file_extension": ".py",
   "mimetype": "text/x-python",
   "name": "python",
   "nbconvert_exporter": "python",
   "pygments_lexer": "ipython3",
   "version": "3.8.5"
  }
 },
 "nbformat": 4,
 "nbformat_minor": 4
}
