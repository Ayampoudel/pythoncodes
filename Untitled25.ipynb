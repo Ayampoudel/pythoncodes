{
 "cells": [
  {
   "cell_type": "code",
   "execution_count": 3,
   "metadata": {},
   "outputs": [],
   "source": [
    "s=\"BINGO\"\n",
    "x=\" \".join(s)"
   ]
  },
  {
   "cell_type": "code",
   "execution_count": 4,
   "metadata": {},
   "outputs": [
    {
     "data": {
      "text/plain": [
       "'B I N G O'"
      ]
     },
     "execution_count": 4,
     "metadata": {},
     "output_type": "execute_result"
    }
   ],
   "source": [
    "x"
   ]
  },
  {
   "cell_type": "code",
   "execution_count": null,
   "metadata": {},
   "outputs": [],
   "source": []
  },
  {
   "cell_type": "code",
   "execution_count": 11,
   "metadata": {},
   "outputs": [
    {
     "name": "stdout",
     "output_type": "stream",
     "text": [
      "-.-. --- -. ...- . .-. -  - .... .. ...  - ---  -- --- .-. ... . \n",
      "GEEKS-FOR-GEEKS \n"
     ]
    }
   ],
   "source": [
    "MORSE_CODE_DICT = { 'A':'.-', 'B':'-...', \n",
    "'C':'-.-.', 'D':'-..', 'E':'.', \n",
    "'F':'..-.', 'G':'--.', 'H':'....', \n",
    "'I':'..', 'J':'.---', 'K':'-.-', \n",
    "'L':'.-..', 'M':'--', 'N':'-.', \n",
    "'O':'---', 'P':'.--.', 'Q':'--.-', \n",
    "                   'R':'.-.', 'S':'...', 'T':'-', \n",
    "'U':'..-', 'V':'...-', 'W':'.--', \n",
    "'X':'-..-', 'Y':'-.--', 'Z':'--..', \n",
    "'1':'.----', '2':'..---', '3':'...--', \n",
    "'4':'....-', '5':'.....', '6':'-....', \n",
    "'7':'--...', '8':'---..', '9':'----.', \n",
    "'0':'-----', ', ':'--..--', '.':'.-.-.-', \n",
    "'?':'..--..', '/':'-..-.', '-':'-....-', \n",
    "'(':'-.--.', ')':'-.--.-'} \n",
    "\n",
    "def encrypt(message): \n",
    "    cipher = '' \n",
    "    for letter in message: \n",
    "        if letter != ' ': \n",
    "\n",
    "            cipher += MORSE_CODE_DICT[letter] + ' '\n",
    "        else: \n",
    "            cipher += ' '\n",
    "\n",
    "    return cipher \n",
    "\n",
    "def decrypt(message): \n",
    "\n",
    "    message += ' '\n",
    "\n",
    "    decipher = '' \n",
    "    citext = '' \n",
    "    for letter in message: \n",
    "\n",
    " \n",
    "        if (letter != ' '): \n",
    " \n",
    "            i = 0\n",
    "\n",
    " \n",
    "            citext += letter \n",
    "\n",
    " \n",
    "    \n",
    "        else: \n",
    " \n",
    "            i += 1\n",
    "\n",
    " \n",
    "            if i == 2 : \n",
    "\n",
    "\n",
    "                decipher += ' '\n",
    "            else: \n",
    "\n",
    " \n",
    "                decipher += list(MORSE_CODE_DICT.keys())[list(MORSE_CODE_DICT \n",
    "                .values()).index(citext)] \n",
    "                citext = '' \n",
    "\n",
    "    return decipher \n",
    " \n",
    "def main(): \n",
    "    message = \"cONVERT THIS TO MORSE\"\n",
    "    result = encrypt(message.upper()) \n",
    "    print (result) \n",
    "\n",
    "    message = \"--. . . -.- ... -....- ..-. --- .-. -....- --. . . -.- ... \"\n",
    "    result = decrypt(message) \n",
    "    print (result) \n",
    "\n",
    "\n",
    "if __name__ == '__main__': \n",
    "    main() \n"
   ]
  },
  {
   "cell_type": "code",
   "execution_count": 34,
   "metadata": {},
   "outputs": [
    {
     "name": "stdout",
     "output_type": "stream",
     "text": [
      "a day Have wonderful\n"
     ]
    }
   ],
   "source": [
    "def sortbylength(word):\n",
    "    list1=word.split()\n",
    "    list1.sort(key=len)\n",
    "    outword=\" \".join(list1)\n",
    "    print(outword)\n",
    "sortbylength(\"Have a wonderful day\")"
   ]
  },
  {
   "cell_type": "code",
   "execution_count": 39,
   "metadata": {},
   "outputs": [
    {
     "data": {
      "text/plain": [
       "[3, 5, 5, 5, 7, 7, 7, 7, 7, 11, 11, 11, 11, 11, 11, 11, 11, 11]"
      ]
     },
     "execution_count": 39,
     "metadata": {},
     "output_type": "execute_result"
    }
   ],
   "source": [
    "def sumofprime(list1):\n",
    "    prime=[]\n",
    "    for i in list1:\n",
    "        for j in range(2,i):\n",
    "            if (i % j) == 0:\n",
    "                break\n",
    "            else:\n",
    "                prime=prime+[i]\n",
    "    return prime\n",
    "\n",
    "sumofprime([1,2,3,5,7,11])"
   ]
  },
  {
   "cell_type": "code",
   "execution_count": null,
   "metadata": {},
   "outputs": [],
   "source": []
  },
  {
   "cell_type": "code",
   "execution_count": null,
   "metadata": {},
   "outputs": [],
   "source": []
  },
  {
   "cell_type": "code",
   "execution_count": null,
   "metadata": {},
   "outputs": [],
   "source": []
  },
  {
   "cell_type": "code",
   "execution_count": null,
   "metadata": {},
   "outputs": [],
   "source": []
  },
  {
   "cell_type": "code",
   "execution_count": null,
   "metadata": {},
   "outputs": [],
   "source": []
  },
  {
   "cell_type": "code",
   "execution_count": 45,
   "metadata": {},
   "outputs": [
    {
     "name": "stdout",
     "output_type": "stream",
     "text": [
      "Enter the month & year: 3 2020\n",
      "Yes\n"
     ]
    }
   ],
   "source": [
    "import datetime   \n",
    "month, year = input('Enter the month & year: ').split() \n",
    "if datetime.datetime.strptime('13 '+' '+month+' '+year, '%d %m %Y').weekday()==4: \n",
    "\tprint(\"Yes\")  \n",
    "else: \n",
    "\tprint(\"No\") "
   ]
  },
  {
   "cell_type": "code",
   "execution_count": 48,
   "metadata": {},
   "outputs": [
    {
     "data": {
      "text/plain": [
       "84"
      ]
     },
     "execution_count": 48,
     "metadata": {},
     "output_type": "execute_result"
    }
   ],
   "source": [
    "def combinations(numbers):\n",
    "    comb=1\n",
    "    for  i in numbers:\n",
    "        comb=comb*i\n",
    "    return comb\n",
    "combinations((3,7,4))"
   ]
  },
  {
   "cell_type": "code",
   "execution_count": 59,
   "metadata": {},
   "outputs": [
    {
     "data": {
      "text/plain": [
       "[1, 2, 3, 5, 6, 7, 8, 9]"
      ]
     },
     "execution_count": 59,
     "metadata": {},
     "output_type": "execute_result"
    }
   ],
   "source": [
    "def consecutivesequence(list1,list2):\n",
    "    list3=list1+list2\n",
    "    list3.sort()\n",
    "    return list3\n",
    "    sorted(list3) == list(range(min(list3), max(list3)+1))\n",
    "list1=[1,2,3,5,6]\n",
    "list2=[9,7,8]\n",
    "consecutivesequence(list1,list2)\n"
   ]
  },
  {
   "cell_type": "code",
   "execution_count": null,
   "metadata": {},
   "outputs": [],
   "source": []
  }
 ],
 "metadata": {
  "kernelspec": {
   "display_name": "Python 3",
   "language": "python",
   "name": "python3"
  },
  "language_info": {
   "codemirror_mode": {
    "name": "ipython",
    "version": 3
   },
   "file_extension": ".py",
   "mimetype": "text/x-python",
   "name": "python",
   "nbconvert_exporter": "python",
   "pygments_lexer": "ipython3",
   "version": "3.8.5"
  }
 },
 "nbformat": 4,
 "nbformat_minor": 4
}
