{
 "cells": [
  {
   "cell_type": "code",
   "execution_count": 3,
   "metadata": {},
   "outputs": [],
   "source": [
    "s=\"BINGO\"\n",
    "x=\" \".join(s)"
   ]
  },
  {
   "cell_type": "code",
   "execution_count": 4,
   "metadata": {},
   "outputs": [
    {
     "data": {
      "text/plain": [
       "'B I N G O'"
      ]
     },
     "execution_count": 4,
     "metadata": {},
     "output_type": "execute_result"
    }
   ],
   "source": [
    "x"
   ]
  },
  {
   "cell_type": "code",
   "execution_count": null,
   "metadata": {},
   "outputs": [],
   "source": []
  },
  {
   "cell_type": "code",
   "execution_count": null,
   "metadata": {},
   "outputs": [],
   "source": []
  },
  {
   "cell_type": "code",
   "execution_count": 34,
   "metadata": {},
   "outputs": [
    {
     "name": "stdout",
     "output_type": "stream",
     "text": [
      "a day Have wonderful\n"
     ]
    }
   ],
   "source": [
    "def sortbylength(word):\n",
    "    list1=word.split()\n",
    "    list1.sort(key=len)\n",
    "    outword=\" \".join(list1)\n",
    "    print(outword)\n",
    "sortbylength(\"Have a wonderful day\")"
   ]
  },
  {
   "cell_type": "code",
   "execution_count": 26,
   "metadata": {},
   "outputs": [
    {
     "name": "stdout",
     "output_type": "stream",
     "text": [
      "[2, 3, 5, 7, 9, 11, 13, 15, 17, 19]\n"
     ]
    },
    {
     "data": {
      "text/plain": [
       "101"
      ]
     },
     "execution_count": 26,
     "metadata": {},
     "output_type": "execute_result"
    }
   ],
   "source": [
    "def isprime(num1,num2):\n",
    "    list1=[]\n",
    "    for num in range(num1, num2 + 1):\n",
    "        if num==2:\n",
    "            list1.append(num)\n",
    "        if num > 1:\n",
    "            for i in range(2, num):\n",
    "                if (num % i) == 0:\n",
    "                    break\n",
    "                else:\n",
    "                    if num not in list1:\n",
    "                        list1.append(num)\n",
    "    print(list1)\n",
    "    sum=0\n",
    "    for i in list1:\n",
    "        sum=sum+i\n",
    "    return sum\n",
    "isprime(2,20)"
   ]
  },
  {
   "cell_type": "code",
   "execution_count": null,
   "metadata": {},
   "outputs": [],
   "source": []
  },
  {
   "cell_type": "code",
   "execution_count": 45,
   "metadata": {},
   "outputs": [
    {
     "name": "stdout",
     "output_type": "stream",
     "text": [
      "Enter the month & year: 3 2020\n",
      "Yes\n"
     ]
    }
   ],
   "source": [
    "import datetime   \n",
    "month, year = input('Enter the month & year: ').split() \n",
    "if datetime.datetime.strptime('13 '+' '+month+' '+year, '%d %m %Y').weekday()==4: \n",
    "    print(\"Yes\")  \n",
    "else: \n",
    "    print(\"No\") "
   ]
  },
  {
   "cell_type": "code",
   "execution_count": 48,
   "metadata": {},
   "outputs": [
    {
     "data": {
      "text/plain": [
       "84"
      ]
     },
     "execution_count": 48,
     "metadata": {},
     "output_type": "execute_result"
    }
   ],
   "source": [
    "def combinations(numbers):\n",
    "    comb=1\n",
    "    for  i in numbers:\n",
    "        comb=comb*i\n",
    "    return comb\n",
    "combinations((3,7,4))"
   ]
  },
  {
   "cell_type": "code",
   "execution_count": 59,
   "metadata": {},
   "outputs": [
    {
     "data": {
      "text/plain": [
       "[1, 2, 3, 5, 6, 7, 8, 9]"
      ]
     },
     "execution_count": 59,
     "metadata": {},
     "output_type": "execute_result"
    }
   ],
   "source": [
    "def consecutivesequence(list1,list2):\n",
    "    list3=list1+list2\n",
    "    list3.sort()\n",
    "    return list3\n",
    "    sorted(list3) == list(range(min(list3), max(list3)+1))\n",
    "list1=[1,2,3,5,6]\n",
    "list2=[9,7,8]\n",
    "consecutivesequence(list1,list2)\n"
   ]
  },
  {
   "cell_type": "code",
   "execution_count": null,
   "metadata": {},
   "outputs": [],
   "source": []
  }
 ],
 "metadata": {
  "kernelspec": {
   "display_name": "Python 3",
   "language": "python",
   "name": "python3"
  },
  "language_info": {
   "codemirror_mode": {
    "name": "ipython",
    "version": 3
   },
   "file_extension": ".py",
   "mimetype": "text/x-python",
   "name": "python",
   "nbconvert_exporter": "python",
   "pygments_lexer": "ipython3",
   "version": "3.8.5"
  }
 },
 "nbformat": 4,
 "nbformat_minor": 4
}
