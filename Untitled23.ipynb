{
 "cells": [
  {
   "cell_type": "code",
   "execution_count": 7,
   "metadata": {},
   "outputs": [
    {
     "data": {
      "text/plain": [
       "['1', '4', '2', '33', '22', '23', '456', '345']"
      ]
     },
     "execution_count": 7,
     "metadata": {},
     "output_type": "execute_result"
    }
   ],
   "source": [
    "def lengthsort(numbers):\n",
    "    list=[]\n",
    "    for i in numbers:\n",
    "        list.append(str(i))\n",
    "    list.sort(key=len)\n",
    "    return list\n",
    "numbers=[1,4,33,22,456,345,23,2]\n",
    "lengthsort(numbers)"
   ]
  },
  {
   "cell_type": "code",
   "execution_count": null,
   "metadata": {},
   "outputs": [],
   "source": [
    "list=['appLe',\"Banana\",'gUAva',\"lITChi\"]\n",
    "output=7"
   ]
  },
  {
   "cell_type": "code",
   "execution_count": 9,
   "metadata": {},
   "outputs": [
    {
     "data": {
      "text/plain": [
       "12"
      ]
     },
     "execution_count": 9,
     "metadata": {},
     "output_type": "execute_result"
    }
   ],
   "source": [
    "def countuppercase(list):\n",
    "    count=0\n",
    "    for i in list:\n",
    "        for item in i:\n",
    "            if item.isupper()==True:\n",
    "                count=count+1\n",
    "    return count\n",
    "list=['appLe',\"Banana\",'gUAva',\"lITChi\",\"MANGO\"]\n",
    "countuppercase(list)"
   ]
  },
  {
   "cell_type": "code",
   "execution_count": null,
   "metadata": {},
   "outputs": [],
   "source": []
  },
  {
   "cell_type": "code",
   "execution_count": 34,
   "metadata": {},
   "outputs": [
    {
     "name": "stdout",
     "output_type": "stream",
     "text": [
      "0\n",
      "2\n",
      "6\n",
      "7\n"
     ]
    }
   ],
   "source": [
    "def getindices(list,item):\n",
    "    for i in (i for i,x in enumerate(list) if x == 'a'):\n",
    "        print(i) \n",
    "\n",
    "list=['a','b','a','c','d','e','a','a']\n",
    "getindices(list,'a')"
   ]
  },
  {
   "cell_type": "code",
   "execution_count": null,
   "metadata": {},
   "outputs": [],
   "source": []
  },
  {
   "cell_type": "code",
   "execution_count": 12,
   "metadata": {},
   "outputs": [
    {
     "name": "stdout",
     "output_type": "stream",
     "text": [
      "1 hours 1 mins 20.0 seconds\n"
     ]
    }
   ],
   "source": [
    "def time(time):\n",
    "    hours=int(time/3600)\n",
    "    remtime=time-(hours*3600)\n",
    "    mins=int(remtime/60)\n",
    "    remtime=remtime-(mins*60)\n",
    "    sec=remtime/1\n",
    "    print(hours,\"hours\",mins,\"mins\",sec,\"seconds\")\n",
    "time(3680)"
   ]
  },
  {
   "cell_type": "code",
   "execution_count": null,
   "metadata": {},
   "outputs": [],
   "source": []
  },
  {
   "cell_type": "code",
   "execution_count": 18,
   "metadata": {},
   "outputs": [
    {
     "name": "stdout",
     "output_type": "stream",
     "text": [
      "The number of students in the class is 5\n"
     ]
    }
   ],
   "source": [
    " class Student:\n",
    "  \n",
    "    number_of_students= 0\n",
    "    \n",
    "    def __init__(self, name, grade):\n",
    "        self.name= name\n",
    "        self.grade= grade\n",
    "        Student.number_of_students += 1\n",
    "\n",
    "    \n",
    "\n",
    "Student1= Student(\"John Philips\", 10) \n",
    "Student2= Student(\"Michelle Matthews\", 9)\n",
    "Student3= Student(\"Michael Robers\", 11)\n",
    "Student4= Student(\"Yorshew Tomson\", 12)\n",
    "Student5= Student(\"Ryan Matts\", 12)\n",
    "\n",
    "print(\"The number of students in the class is \" + str(Student.number_of_students))"
   ]
  },
  {
   "cell_type": "code",
   "execution_count": null,
   "metadata": {},
   "outputs": [],
   "source": []
  },
  {
   "cell_type": "code",
   "execution_count": null,
   "metadata": {},
   "outputs": [],
   "source": [
    "list=[10, 11, 12, 9, 10]\n",
    "output should be 3"
   ]
  },
  {
   "cell_type": "code",
   "execution_count": 54,
   "metadata": {},
   "outputs": [
    {
     "name": "stdout",
     "output_type": "stream",
     "text": [
      "10\n",
      "11\n",
      "12\n",
      "9\n",
      "10\n"
     ]
    }
   ],
   "source": [
    "# def isprogress(list):\n",
    "#     for i in list:\n",
    "        \n",
    "        \n",
    "# list=[10,11,12,9,10]\n",
    "# isprogress(list)"
   ]
  },
  {
   "cell_type": "code",
   "execution_count": null,
   "metadata": {},
   "outputs": [],
   "source": []
  },
  {
   "cell_type": "code",
   "execution_count": 60,
   "metadata": {},
   "outputs": [
    {
     "name": "stdout",
     "output_type": "stream",
     "text": [
      "the number is a repdigit\n",
      "the number is not a rep digit\n",
      "the number is a repdigit\n",
      "the number is a repdigit\n",
      "the number is not a rep digit\n",
      "the number is a repdigit\n"
     ]
    }
   ],
   "source": [
    "def repdigit(number):\n",
    "    single1=0\n",
    "    single2=0\n",
    "    single1=number%10\n",
    "    single2=int(number/10)\n",
    "    if single1==single2:\n",
    "        print(\"the number is a repdigit\")\n",
    "    else:\n",
    "        print(\"the number is not a rep digit\")\n",
    "\n",
    "repdigit(77)\n",
    "repdigit(76)\n",
    "repdigit(22)\n",
    "repdigit(33)\n",
    "repdigit(45)\n",
    "repdigit(44)"
   ]
  },
  {
   "cell_type": "code",
   "execution_count": null,
   "metadata": {},
   "outputs": [],
   "source": []
  },
  {
   "cell_type": "code",
   "execution_count": null,
   "metadata": {},
   "outputs": [],
   "source": []
  },
  {
   "cell_type": "code",
   "execution_count": 64,
   "metadata": {},
   "outputs": [
    {
     "name": "stdout",
     "output_type": "stream",
     "text": [
      "======\n",
      "==\n",
      "===============\n",
      "===\n"
     ]
    }
   ],
   "source": [
    "def hist(list,symbol):\n",
    "    for i in list:\n",
    "        print(symbol*i)\n",
    "list=[6,2,15,3]\n",
    "hist(list,\"=\")"
   ]
  },
  {
   "cell_type": "code",
   "execution_count": 69,
   "metadata": {},
   "outputs": [
    {
     "name": "stdout",
     "output_type": "stream",
     "text": [
      "Ayam Poudel\n",
      "A . P\n"
     ]
    }
   ],
   "source": [
    "class Name:\n",
    "    def __init__(self,fname,lname):\n",
    "        self.fname=fname\n",
    "        self.lname=lname\n",
    "        \n",
    "    def func(self):\n",
    "        print(self.fname,self.lname)\n",
    "        print(self.fname[0],\".\",self.lname[0])\n",
    "    \n",
    "obj=Name(\"Ayam\",\"Poudel\")\n",
    "obj.func()"
   ]
  },
  {
   "cell_type": "code",
   "execution_count": 99,
   "metadata": {},
   "outputs": [
    {
     "name": "stdout",
     "output_type": "stream",
     "text": [
      "dict_items([('name', 'ayam'), ('age', 23), ('sex', 'male')])\n"
     ]
    }
   ],
   "source": [
    "def dictolist(d):\n",
    "    l=d.items()\n",
    "    print(l)\n",
    "d={'name':'ayam','age':23,'sex':'male'}\n",
    "dictolist(d)"
   ]
  },
  {
   "cell_type": "code",
   "execution_count": 114,
   "metadata": {},
   "outputs": [
    {
     "data": {
      "text/plain": [
       "2"
      ]
     },
     "execution_count": 114,
     "metadata": {},
     "output_type": "execute_result"
    }
   ],
   "source": [
    "def probability(percent,throws):\n",
    "    probofhitting=(percent*(1/100))\n",
    "    probofnothitting=1-percent\n",
    "    \n",
    "    successfulthrows=(probofhitting**throws)\n",
    "    return successfulthrows\n",
    "\n",
    "    \n",
    "x=probability(25,3)\n",
    "round(x*100)"
   ]
  },
  {
   "cell_type": "code",
   "execution_count": 119,
   "metadata": {},
   "outputs": [
    {
     "data": {
      "text/plain": [
       "1"
      ]
     },
     "execution_count": 119,
     "metadata": {},
     "output_type": "execute_result"
    }
   ],
   "source": [
    "def longesttime(h,m,s):\n",
    "    ld=0\n",
    "    mintohour=int(m/60)\n",
    "    sectohour=int(s/3600)\n",
    "    \n",
    "    if h>mintohour and h>sectohour:\n",
    "        ld=h\n",
    "    elif mintohour>h and mintohour>sectohour:\n",
    "        ld=m\n",
    "    else:\n",
    "        ld=s\n",
    "    return ld\n",
    "\n",
    "longesttime(15, 955, 59400)\n",
    "longesttime(2, 300, 15000)\n",
    "longesttime(1, 59, 3598)"
   ]
  },
  {
   "cell_type": "code",
   "execution_count": 160,
   "metadata": {},
   "outputs": [
    {
     "data": {
      "text/plain": [
       "[[9, 9, 9, 9, 9, 9, 9, 9, 9],\n",
       " [9, 9, 9, 9, 9, 9, 9, 9, 9],\n",
       " [9, 9, 9, 9, 9, 9, 9, 9, 9],\n",
       " [9, 9, 9, 9, 9, 9, 9, 9, 9],\n",
       " [9, 9, 9, 9, 9, 9, 9, 9, 9],\n",
       " [9, 9, 9, 9, 9, 9, 9, 9, 9],\n",
       " [9, 9, 9, 9, 9, 9, 9, 9, 9],\n",
       " [9, 9, 9, 9, 9, 9, 9, 9, 9],\n",
       " [9, 9, 9, 9, 9, 9, 9, 9, 9]]"
      ]
     },
     "execution_count": 160,
     "metadata": {},
     "output_type": "execute_result"
    }
   ],
   "source": [
    "def squarepatch(n):\n",
    "    matrix=[]\n",
    "    for i in range(n):\n",
    "        matrix = n*[n*[n]]\n",
    "        return matrix\n",
    "squarepatch(9)"
   ]
  },
  {
   "cell_type": "code",
   "execution_count": 168,
   "metadata": {},
   "outputs": [
    {
     "data": {
      "text/plain": [
       "12"
      ]
     },
     "execution_count": 168,
     "metadata": {},
     "output_type": "execute_result"
    }
   ],
   "source": [
    "def largesteven(numbers):\n",
    "    largest=0\n",
    "    list1=[]\n",
    "    for i in numbers:\n",
    "        if i%2==0:\n",
    "            list1=list1+[i]\n",
    "    list1.sort()\n",
    "    largest=list1[-1]\n",
    "    return largest\n",
    "numbers=[1,6,2,3,4,5,10,7,9,8,12]\n",
    "largesteven(numbers)"
   ]
  },
  {
   "cell_type": "code",
   "execution_count": null,
   "metadata": {},
   "outputs": [],
   "source": [
    "input: helloWorld\n",
    "output: hello world"
   ]
  },
  {
   "cell_type": "code",
   "execution_count": 22,
   "metadata": {},
   "outputs": [
    {
     "data": {
      "text/plain": [
       "'i l o v e m y t e a p o t'"
      ]
     },
     "execution_count": 22,
     "metadata": {},
     "output_type": "execute_result"
    }
   ],
   "source": [
    "def newword(word):\n",
    "    list1=[]\n",
    "    for i in word:\n",
    "        if i.islower==True:\n",
    "            list1=list1+[i]\n",
    "        else:\n",
    "            i=i.lower()\n",
    "            list1=list1+[i]\n",
    "    return list1\n",
    "x=newword('helLoWorld')\n",
    "x=newword('iLoveMyTeapot')\n",
    "y = \" \".join(x)\n",
    "y"
   ]
  },
  {
   "cell_type": "code",
   "execution_count": 85,
   "metadata": {},
   "outputs": [
    {
     "name": "stdout",
     "output_type": "stream",
     "text": [
      "['The', 'end', 'is', 'very', 'far']\n",
      "3\n",
      "The\n",
      "3\n",
      "end\n",
      "2\n",
      "is\n",
      "4\n",
      "very\n",
      "3\n",
      "far\n"
     ]
    }
   ],
   "source": [
    "def censor(string):\n",
    "    x=string.split()\n",
    "    print (x)\n",
    "    character=\" \"\n",
    "    for i in x:\n",
    "        character=str(i)\n",
    "        z=len(character)\n",
    "        print(z)\n",
    "        if z>4:\n",
    "            censor=character.replace(character,\"***\")\n",
    "            return censor\n",
    "    \n",
    "        print(character)\n",
    "        \n",
    "string=\"The end is very far\"\n",
    "censor(string)\n",
    "    "
   ]
  },
  {
   "cell_type": "code",
   "execution_count": null,
   "metadata": {},
   "outputs": [],
   "source": []
  },
  {
   "cell_type": "code",
   "execution_count": 79,
   "metadata": {},
   "outputs": [
    {
     "data": {
      "text/plain": [
       "'**'"
      ]
     },
     "execution_count": 79,
     "metadata": {},
     "output_type": "execute_result"
    }
   ],
   "source": [
    "word=\"ababab\"\n",
    "a=word.replace(word, '**')\n",
    "a"
   ]
  },
  {
   "cell_type": "code",
   "execution_count": null,
   "metadata": {},
   "outputs": [],
   "source": []
  },
  {
   "cell_type": "code",
   "execution_count": 18,
   "metadata": {},
   "outputs": [
    {
     "data": {
      "text/plain": [
       "[-20, -20, -20]"
      ]
     },
     "execution_count": 18,
     "metadata": {},
     "output_type": "execute_result"
    }
   ],
   "source": [
    "def evenodd(list,n):\n",
    "    list1=[]\n",
    "    for i in list:\n",
    "        if i%2==0:\n",
    "            list1.append(i-(2*n))\n",
    "        else:\n",
    "            list1.append(i+(2*n))\n",
    "    return list1\n",
    "list=[0,0,0]\n",
    "evenodd(list,10)"
   ]
  },
  {
   "cell_type": "code",
   "execution_count": null,
   "metadata": {},
   "outputs": [],
   "source": []
  },
  {
   "cell_type": "code",
   "execution_count": 22,
   "metadata": {},
   "outputs": [
    {
     "data": {
      "text/plain": [
       "'swhathahahevr'"
      ]
     },
     "execution_count": 22,
     "metadata": {},
     "output_type": "execute_result"
    }
   ],
   "source": [
    "def longestword(string):\n",
    "    x=string.split()\n",
    "    lw=x[0]\n",
    "    for i in x:\n",
    "        if len(i)>len(lw):\n",
    "            lw=i\n",
    "    return lw\n",
    "longestword(\"my name is whatever swhathahahevr\")"
   ]
  },
  {
   "cell_type": "code",
   "execution_count": 35,
   "metadata": {},
   "outputs": [
    {
     "name": "stdout",
     "output_type": "stream",
     "text": [
      "UAAUCGCGCUAUAUGCGCAUG\n",
      "GCUAUAU\n",
      "CAGUAUGCUGCAU\n"
     ]
    }
   ],
   "source": [
    "def mRNA(dnastring):\n",
    "    mrna=dnastring.maketrans(\"ATGC\",\"UACG\")\n",
    "    print(dnastring.translate(mrna))\n",
    "mRNA(\"ATTAGCGCGATATACGCGTAC\")\n",
    "mRNA(\"CGATATA\")\n",
    "mRNA(\"GTCATACGACGTA\")"
   ]
  },
  {
   "cell_type": "code",
   "execution_count": null,
   "metadata": {},
   "outputs": [],
   "source": []
  },
  {
   "cell_type": "code",
   "execution_count": null,
   "metadata": {},
   "outputs": [],
   "source": []
  },
  {
   "cell_type": "code",
   "execution_count": null,
   "metadata": {},
   "outputs": [],
   "source": []
  }
 ],
 "metadata": {
  "kernelspec": {
   "display_name": "Python 3",
   "language": "python",
   "name": "python3"
  },
  "language_info": {
   "codemirror_mode": {
    "name": "ipython",
    "version": 3
   },
   "file_extension": ".py",
   "mimetype": "text/x-python",
   "name": "python",
   "nbconvert_exporter": "python",
   "pygments_lexer": "ipython3",
   "version": "3.8.5"
  }
 },
 "nbformat": 4,
 "nbformat_minor": 4
}
