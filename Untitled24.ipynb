{
 "cells": [
  {
   "cell_type": "code",
   "execution_count": 3,
   "metadata": {},
   "outputs": [
    {
     "data": {
      "text/plain": [
       "[-20, -20, -20]"
      ]
     },
     "execution_count": 3,
     "metadata": {},
     "output_type": "execute_result"
    }
   ],
   "source": [
    "def oddeven(list,n):\n",
    "    newlist=[]\n",
    "    for i in list:\n",
    "        if i%2==0:\n",
    "            newlist.append(i-(2*n))\n",
    "        else:\n",
    "            newlist.append(i+(2*n))\n",
    "    return newlist\n",
    "oddeven([0, 0, 0], 10)\n",
    "    "
   ]
  },
  {
   "cell_type": "code",
   "execution_count": 49,
   "metadata": {},
   "outputs": [
    {
     "name": "stdout",
     "output_type": "stream",
     "text": [
      "['Hello', 'Darkness', 'My', 'Old', 'Friend']\n"
     ]
    },
    {
     "data": {
      "text/plain": [
       "'Darkness'"
      ]
     },
     "execution_count": 49,
     "metadata": {},
     "output_type": "execute_result"
    }
   ],
   "source": [
    "def longestword(string):\n",
    "    x=string.split()\n",
    "    print(x)\n",
    "    maxword=x[0]\n",
    "    for i in x:\n",
    "        if len(i)>len(maxword):\n",
    "            maxword=i\n",
    "    return maxword\n",
    "    \n",
    "longestword(\"Hello Darkness My Old Friend\")"
   ]
  },
  {
   "cell_type": "code",
   "execution_count": 50,
   "metadata": {},
   "outputs": [
    {
     "name": "stdout",
     "output_type": "stream",
     "text": [
      "['f', 'o', 'o', 't', 'b', 'a', 'l', 'l']\n",
      "['w', 'e', 'l', 'c', 'o', 'm', 'e']\n",
      "['a', 'b', 'c']\n"
     ]
    },
    {
     "data": {
      "text/plain": [
       "' bcd'"
      ]
     },
     "execution_count": 50,
     "metadata": {},
     "output_type": "execute_result"
    }
   ],
   "source": [
    "def changecharacter(word):\n",
    "    x=list(word)\n",
    "    newstring=\" \"\n",
    "    y=0\n",
    "    char=0\n",
    "    print(x)\n",
    "    for i in x:\n",
    "        y=ord(i)+1\n",
    "        char=chr(y)\n",
    "        newstring=newstring+char\n",
    "    return newstring\n",
    "    \n",
    "changecharacter(\"football\")\n",
    "changecharacter(\"welcome\")\n",
    "changecharacter(\"abc\")"
   ]
  },
  {
   "cell_type": "code",
   "execution_count": 18,
   "metadata": {},
   "outputs": [
    {
     "name": "stdout",
     "output_type": "stream",
     "text": [
      "Hello ram,meet shyam and hari\n"
     ]
    }
   ],
   "source": [
    "def templateformat(a,b,c):\n",
    "    print (\"Hello {},meet {} and {}\".format(a,b,c))\n",
    "\n",
    "    \n",
    "templateformat('ram','shyam','hari')"
   ]
  },
  {
   "cell_type": "code",
   "execution_count": 19,
   "metadata": {},
   "outputs": [
    {
     "name": "stdout",
     "output_type": "stream",
     "text": [
      "ayam hit someone and then someone hit ayam\n"
     ]
    }
   ],
   "source": [
    "def templateformat(a,b):\n",
    "    print(\"{} hit {} and then {} hit {}\".format(a,b,b,a))\n",
    "    \n",
    "templateformat('ayam','someone')"
   ]
  },
  {
   "cell_type": "code",
   "execution_count": null,
   "metadata": {},
   "outputs": [],
   "source": []
  },
  {
   "cell_type": "code",
   "execution_count": 34,
   "metadata": {},
   "outputs": [
    {
     "name": "stdout",
     "output_type": "stream",
     "text": [
      "[1, 2, 3, 4]\n"
     ]
    }
   ],
   "source": [
    "def pandigital1(n):\n",
    "    number = str(n)\n",
    "    digits = []\n",
    "    for digit in number:\n",
    "        if digit in digits:\n",
    "            return False\n",
    "        else:\n",
    "            digits.append(digit)\n",
    "    goal = [str(x) for x in range(1, len(number)+1)] \n",
    "    print(goal)\n",
    "    if goal == sorted(digits):\n",
    "        print(\"pandigital\")\n",
    "    else:\n",
    "        return False\n",
    "\n",
    "pandigital(1234)"
   ]
  },
  {
   "cell_type": "code",
   "execution_count": 38,
   "metadata": {},
   "outputs": [
    {
     "name": "stdout",
     "output_type": "stream",
     "text": [
      "True\n",
      "True\n",
      "True\n",
      "True\n",
      "True\n",
      "False\n"
     ]
    }
   ],
   "source": [
    "def is_pandigital_num(n):\n",
    "    return len(set(str(n))) == 10\n",
    "\n",
    "print(is_pandigital_num(1023456897))\n",
    "print(is_pandigital_num(1023456798))\n",
    "print(is_pandigital_num(1023457689))\n",
    "print(is_pandigital_num(1023456789))\n",
    "print(is_pandigital_num(1023456789))\n",
    "print(is_pandigital_num(1234512345))\n"
   ]
  },
  {
   "cell_type": "code",
   "execution_count": 43,
   "metadata": {},
   "outputs": [
    {
     "data": {
      "text/plain": [
       "26"
      ]
     },
     "execution_count": 43,
     "metadata": {},
     "output_type": "execute_result"
    }
   ],
   "source": [
    "def houseofcards(n):\n",
    "    cardsneeded=int(n*(3*n+1)/2)\n",
    "    return cardsneeded\n",
    "houseofcards(4)"
   ]
  },
  {
   "cell_type": "code",
   "execution_count": 56,
   "metadata": {},
   "outputs": [
    {
     "data": {
      "text/plain": [
       "12"
      ]
     },
     "execution_count": 56,
     "metadata": {},
     "output_type": "execute_result"
    }
   ],
   "source": [
    "def vowels(word):\n",
    "    newword=word.lower()\n",
    "    x=list(newword)\n",
    "    noofvowels=0\n",
    "    for i in x:\n",
    "        if i=='a' or i=='e' or i=='o' or i=='i'or i=='u':\n",
    "            noofvowels=noofvowels+1\n",
    "    return noofvowels\n",
    "\n",
    "def consonants(word):\n",
    "    newword=word.lower()\n",
    "    x=list(newword)\n",
    "    noofconsonants=0\n",
    "    for i in x:\n",
    "        if i!='a' and i!='e' and i!='i' and i!='o' and i!='u' and i!=\" \":\n",
    "            noofconsonants=noofconsonants+1\n",
    "    return noofconsonants\n",
    "\n",
    "\n",
    "word=\"apple is my favorite food\"\n",
    "vowels(word)\n",
    "consonants(word)"
   ]
  },
  {
   "cell_type": "code",
   "execution_count": 60,
   "metadata": {},
   "outputs": [
    {
     "data": {
      "text/plain": [
       "4"
      ]
     },
     "execution_count": 60,
     "metadata": {},
     "output_type": "execute_result"
    }
   ],
   "source": [
    "def sharedletter(word1,word2):\n",
    "    no=0\n",
    "    for i in word1:\n",
    "        for j in word2:\n",
    "            if i==j:\n",
    "                no=no+1\n",
    "    return no\n",
    "sharedletter(\"Mango\",\"Tango\")"
   ]
  },
  {
   "cell_type": "code",
   "execution_count": null,
   "metadata": {},
   "outputs": [],
   "source": []
  },
  {
   "cell_type": "code",
   "execution_count": 25,
   "metadata": {},
   "outputs": [
    {
     "data": {
      "text/plain": [
       "6.5"
      ]
     },
     "execution_count": 25,
     "metadata": {},
     "output_type": "execute_result"
    }
   ],
   "source": [
    "from numpy import median\n",
    "def median1(mylist):\n",
    "    med=median(mylist)\n",
    "    return med\n",
    "mylist=[1,2,4,5,3,7,6,8,9,10,11,12]\n",
    "median1(mylist)"
   ]
  },
  {
   "cell_type": "code",
   "execution_count": null,
   "metadata": {},
   "outputs": [],
   "source": []
  },
  {
   "cell_type": "code",
   "execution_count": 27,
   "metadata": {},
   "outputs": [
    {
     "data": {
      "text/plain": [
       "31"
      ]
     },
     "execution_count": 27,
     "metadata": {},
     "output_type": "execute_result"
    }
   ],
   "source": [
    "def towerofhanoi(n):\n",
    "    moves=(2**n)-1\n",
    "    return moves\n",
    "towerofhanoi(5)"
   ]
  },
  {
   "cell_type": "code",
   "execution_count": 33,
   "metadata": {},
   "outputs": [
    {
     "data": {
      "text/plain": [
       "True"
      ]
     },
     "execution_count": 33,
     "metadata": {},
     "output_type": "execute_result"
    }
   ],
   "source": [
    "def isrightangle(a,b,c):\n",
    "    if a>b and b>c:\n",
    "        if a**2==b**2+c**2:\n",
    "            return True\n",
    "        else:\n",
    "            return False\n",
    "    elif b>a and b>c:\n",
    "        if b**2==a**2+c**2:\n",
    "            return True\n",
    "        else:\n",
    "            return False\n",
    "    else:\n",
    "        if c**2==a**2+b**2:\n",
    "            return True\n",
    "        else:\n",
    "            return False\n",
    "    \n",
    "isrightangle(145,105,100)\n",
    "        "
   ]
  },
  {
   "cell_type": "code",
   "execution_count": 37,
   "metadata": {},
   "outputs": [
    {
     "data": {
      "text/plain": [
       "48"
      ]
     },
     "execution_count": 37,
     "metadata": {},
     "output_type": "execute_result"
    }
   ],
   "source": [
    "def function(number):\n",
    "    mul=1\n",
    "    while number>0:\n",
    "        n=number%10\n",
    "        mul=mul*n\n",
    "        number=int(number/10)\n",
    "    \n",
    "    return mul\n",
    "function(832)"
   ]
  },
  {
   "cell_type": "code",
   "execution_count": 47,
   "metadata": {},
   "outputs": [
    {
     "name": "stdout",
     "output_type": "stream",
     "text": [
      "Imperfect Cadence\n"
     ]
    }
   ],
   "source": [
    "def candences(listofcandences):\n",
    "    i=listofcandences\n",
    "    if i[-1]==\"I\" and i[-2]==\"V\":\n",
    "        print(\"perfect\")\n",
    "    elif i[-1]==\"I\" and i[-2]==\"IV\":\n",
    "        print(\"plagal\")\n",
    "    elif i[-1]!=\"I\" and i[-2]==\"V\":\n",
    "        print(\"Interrupted Cadence\")\n",
    "    elif i[-1]==\"V\":\n",
    "        print(\"Imperfect Cadence\")\n",
    "\n",
    "        \n",
    "        \n",
    "candences([\"I\", \"IV\", \"V\"])"
   ]
  },
  {
   "cell_type": "code",
   "execution_count": null,
   "metadata": {},
   "outputs": [],
   "source": []
  },
  {
   "cell_type": "code",
   "execution_count": 56,
   "metadata": {},
   "outputs": [
    {
     "name": "stdout",
     "output_type": "stream",
     "text": [
      "[91 92 93 94 95 96 97 98 99]\n"
     ]
    },
    {
     "data": {
      "text/plain": [
       "10"
      ]
     },
     "execution_count": 56,
     "metadata": {},
     "output_type": "execute_result"
    }
   ],
   "source": [
    "import numpy as np\n",
    "def countdigit(num1,num2,digit):\n",
    "    arr=np.arange(num1,num2+1)\n",
    "    print(arr)\n",
    "    count=0\n",
    "    for i in arr:\n",
    "        while(i>0):\n",
    "            individual=i%10\n",
    "            if individual==digit:\n",
    "                count=count+1\n",
    "            i=int(i/10)\n",
    "    return count\n",
    "\n",
    "    \n",
    "countdigit(91,99,9)\n",
    "    "
   ]
  },
  {
   "cell_type": "code",
   "execution_count": 59,
   "metadata": {},
   "outputs": [
    {
     "name": "stdout",
     "output_type": "stream",
     "text": [
      "Enter the date in format 'dd/mm/yy' : 31/6/2020\n",
      "Input date is not valid..\n"
     ]
    }
   ],
   "source": [
    "import datetime\n",
    "\n",
    "inputDate = input(\"Enter the date in format 'dd/mm/yy' : \")\n",
    "\n",
    "day,month,year = inputDate.split('/')\n",
    "\n",
    "isValidDate = True\n",
    "try :\n",
    "    datetime.datetime(int(year),int(month),int(day))\n",
    "except ValueError :\n",
    "    isValidDate = False\n",
    "\n",
    "if(isValidDate) :\n",
    "    print (\"Input date is valid ..\")\n",
    "else :\n",
    "    print (\"Input date is not valid..\")"
   ]
  },
  {
   "cell_type": "code",
   "execution_count": 61,
   "metadata": {},
   "outputs": [
    {
     "name": "stdout",
     "output_type": "stream",
     "text": [
      "enter date in dd/mm/yyyy format1/12/2020\n",
      "it is a valid date\n"
     ]
    }
   ],
   "source": [
    "import datetime\n",
    "def validdate(date):\n",
    "    day,month,year=date.split('/')\n",
    "    isValidDate=True\n",
    "    try:\n",
    "        datetime.datetime(int(year),int(month),int(day))\n",
    "    except ValueError:\n",
    "        isValidDate=False\n",
    "    \n",
    "    if(isValidDate):\n",
    "        print(\"it is a valid date\")\n",
    "    else:\n",
    "        print(\"sorry man. the date is not valid\")\n",
    "    \n",
    "date=input(\"enter date in dd/mm/yyyy format\")\n",
    "validdate(date)"
   ]
  },
  {
   "cell_type": "code",
   "execution_count": 13,
   "metadata": {},
   "outputs": [
    {
     "name": "stdout",
     "output_type": "stream",
     "text": [
      "h\n",
      "e\n",
      "l\n",
      "i\n",
      "c\n",
      "o\n",
      "p\n",
      "t\n",
      "e\n",
      "r\n"
     ]
    },
    {
     "data": {
      "text/plain": [
       "1"
      ]
     },
     "execution_count": 13,
     "metadata": {},
     "output_type": "execute_result"
    }
   ],
   "source": [
    "def duplicate(word):\n",
    "    list1=[]\n",
    "    double=0\n",
    "    for i in word:\n",
    "        print(i)\n",
    "        if i not in list1:\n",
    "            list1.append(i)\n",
    "        else:\n",
    "            double=double+1\n",
    "    return double\n",
    "            \n",
    "    return list1\n",
    "duplicate('helicopter')"
   ]
  },
  {
   "cell_type": "code",
   "execution_count": 13,
   "metadata": {},
   "outputs": [
    {
     "name": "stdout",
     "output_type": "stream",
     "text": [
      "[5, 3, 4, 2, 5, 89, 5]\n"
     ]
    },
    {
     "data": {
      "text/plain": [
       "89"
      ]
     },
     "execution_count": 13,
     "metadata": {},
     "output_type": "execute_result"
    }
   ],
   "source": [
    "def gettopnotes(dictionary):\n",
    "    x=dictionary.get('notes')\n",
    "    print(x)\n",
    "    topnotes=1\n",
    "    for i in x:\n",
    "        if i>topnotes:\n",
    "            topnotes=i\n",
    "    return topnotes\n",
    "\n",
    "    \n",
    "data={\n",
    "    \"id\": 1,\n",
    "    \"name\": \"Jacek\",\n",
    "    \"notes\": [5, 3, 4, 2, 5, 89,5]}\n",
    "gettopnotes(data)"
   ]
  },
  {
   "cell_type": "code",
   "execution_count": 19,
   "metadata": {},
   "outputs": [
    {
     "data": {
      "text/plain": [
       "False"
      ]
     },
     "execution_count": 19,
     "metadata": {},
     "output_type": "execute_result"
    }
   ],
   "source": [
    "import collections\n",
    "def circularlist(list1,list2,n):\n",
    "    list3=collections.deque(list2)\n",
    "    list3.rotate(n)\n",
    "    newlist=list(list3)\n",
    "    if list1==newlist:\n",
    "        return True\n",
    "    else:\n",
    "        return False\n",
    "\n",
    "    \n",
    "    \n",
    "list1=[0,1,2,3,4,5]\n",
    "list2=[3,4,5,2,1,0]\n",
    "circularlist(list1,list2,3)"
   ]
  },
  {
   "cell_type": "code",
   "execution_count": null,
   "metadata": {},
   "outputs": [],
   "source": []
  },
  {
   "cell_type": "code",
   "execution_count": null,
   "metadata": {},
   "outputs": [],
   "source": [
    "def ps(number):\n",
    "    multiples=[]\n",
    "    for i in range(number):\n",
    "        if number%(i+1)==0:\n",
    "            multiples.append(i+1)\n",
    "    return multiples\n",
    "ps(81)"
   ]
  },
  {
   "cell_type": "code",
   "execution_count": null,
   "metadata": {},
   "outputs": [],
   "source": []
  },
  {
   "cell_type": "code",
   "execution_count": null,
   "metadata": {},
   "outputs": [],
   "source": []
  }
 ],
 "metadata": {
  "kernelspec": {
   "display_name": "Python 3",
   "language": "python",
   "name": "python3"
  },
  "language_info": {
   "codemirror_mode": {
    "name": "ipython",
    "version": 3
   },
   "file_extension": ".py",
   "mimetype": "text/x-python",
   "name": "python",
   "nbconvert_exporter": "python",
   "pygments_lexer": "ipython3",
   "version": "3.8.5"
  }
 },
 "nbformat": 4,
 "nbformat_minor": 4
}
