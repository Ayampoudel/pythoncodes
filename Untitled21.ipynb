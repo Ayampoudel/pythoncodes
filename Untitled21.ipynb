{
 "cells": [
  {
   "cell_type": "code",
   "execution_count": 4,
   "metadata": {},
   "outputs": [],
   "source": [
    "list=[1,4,2,5,3]\n",
    "list.sort(reverse=True)"
   ]
  },
  {
   "cell_type": "code",
   "execution_count": 5,
   "metadata": {},
   "outputs": [
    {
     "data": {
      "text/plain": [
       "[5, 4, 3, 2, 1]"
      ]
     },
     "execution_count": 5,
     "metadata": {},
     "output_type": "execute_result"
    }
   ],
   "source": [
    "list"
   ]
  },
  {
   "cell_type": "code",
   "execution_count": null,
   "metadata": {},
   "outputs": [],
   "source": []
  },
  {
   "cell_type": "code",
   "execution_count": 31,
   "metadata": {},
   "outputs": [
    {
     "name": "stdout",
     "output_type": "stream",
     "text": [
      "7\n",
      "3\n",
      "6\n",
      "5.0\n"
     ]
    }
   ],
   "source": [
    "class Calculator:\n",
    "    \n",
    "    def addition(num1,num2):\n",
    "        add=num1+num2\n",
    "        print(add)\n",
    "    \n",
    "    def substraction(num1,num2):\n",
    "        sub=num1-num2\n",
    "        print(sub)\n",
    "    \n",
    "    def multiply(num1,num2):\n",
    "        mul=num1*num2\n",
    "        print(mul)\n",
    "    \n",
    "    def divide(num1,num2):\n",
    "        div=num1/num2\n",
    "        print(div)\n",
    "    \n",
    "\n",
    "Calculator.addition(2,5)\n",
    "Calculator.substraction(5,2)\n",
    "Calculator.multiply(2,3)\n",
    "Calculator.divide(10,2)"
   ]
  },
  {
   "cell_type": "code",
   "execution_count": 33,
   "metadata": {},
   "outputs": [
    {
     "data": {
      "text/plain": [
       "' eggs'"
      ]
     },
     "execution_count": 33,
     "metadata": {},
     "output_type": "execute_result"
    }
   ],
   "source": [
    "def newword(list1,list2):\n",
    "    word=\" \"\n",
    "    for i in list2:\n",
    "        word=word+list1[i]\n",
    "    return word\n",
    "\n",
    "list1=['e','s','g','g']\n",
    "list2=[0,2,3,1]\n",
    "newword(list1,list2)"
   ]
  },
  {
   "cell_type": "code",
   "execution_count": null,
   "metadata": {},
   "outputs": [],
   "source": []
  },
  {
   "cell_type": "code",
   "execution_count": null,
   "metadata": {},
   "outputs": [],
   "source": []
  },
  {
   "cell_type": "code",
   "execution_count": 36,
   "metadata": {},
   "outputs": [
    {
     "name": "stdout",
     "output_type": "stream",
     "text": [
      "27\n",
      "9.0\n",
      "3.0\n"
     ]
    }
   ],
   "source": [
    "class Number:\n",
    "    def __init__(self,num):\n",
    "        self.ones=num\n",
    "        self.threes=num/3\n",
    "        self.nines=num/9\n",
    "        \n",
    "n1=Number(27)\n",
    "print(n1.ones)\n",
    "print(n1.threes)\n",
    "print(n1.nines)"
   ]
  },
  {
   "cell_type": "code",
   "execution_count": null,
   "metadata": {},
   "outputs": [],
   "source": []
  },
  {
   "cell_type": "code",
   "execution_count": 51,
   "metadata": {},
   "outputs": [
    {
     "name": "stdout",
     "output_type": "stream",
     "text": [
      "Ayamage is23\n",
      "Ayamis this tall in cm6.1\n",
      "Ayamis67kg\n"
     ]
    }
   ],
   "source": [
    "class Player():\n",
    "    def __init__(self,name,age,height,weight):\n",
    "        self.name=name\n",
    "        self.age=age\n",
    "        self.height=height\n",
    "        self.weight=weight\n",
    "        \n",
    "        \n",
    "    def get_age(self):\n",
    "        print(self.name+\"age is\"+str(self.age))\n",
    "    def get_height(self):\n",
    "        print(self.name+\"is this tall in cm\"+str(self.height))\n",
    "    def get_weight(self):\n",
    "        print(self.name+\"is\"+str(self.weight)+\"kg\")\n",
    "    \n",
    "    \n",
    "p1=Player(\"Ayam\",23,6.1,67)\n",
    "p1.name\n",
    "p1.get_age()\n",
    "p1.get_height()\n",
    "p1.get_weight()"
   ]
  },
  {
   "cell_type": "code",
   "execution_count": null,
   "metadata": {},
   "outputs": [],
   "source": [
    "\n"
   ]
  },
  {
   "cell_type": "code",
   "execution_count": null,
   "metadata": {},
   "outputs": [],
   "source": []
  },
  {
   "cell_type": "code",
   "execution_count": 59,
   "metadata": {},
   "outputs": [
    {
     "name": "stdout",
     "output_type": "stream",
     "text": [
      "Ayam Poudel\n",
      "ayam.poudel@company.com\n"
     ]
    }
   ],
   "source": [
    "class Employee():\n",
    "    def __init__(self,firstname,lastname):\n",
    "        self.firstname=firstname\n",
    "        self.lastname=lastname\n",
    "    def fullname(self):\n",
    "        print(self.firstname+\" \"+self.lastname)\n",
    "    def email(self):\n",
    "        print(self.firstname.lower()+\".\"+self.lastname.lower()+\"@company.com\")\n",
    "        \n",
    "e1=Employee('Ayam',\"Poudel\")\n",
    "e1.fullname()\n",
    "e1.email()"
   ]
  },
  {
   "cell_type": "code",
   "execution_count": 71,
   "metadata": {},
   "outputs": [
    {
     "name": "stdout",
     "output_type": "stream",
     "text": [
      "1 0 40\n"
     ]
    }
   ],
   "source": [
    "def time(seconds):\n",
    "    hours=int(seconds/3600)\n",
    "    remseconds=seconds-(hours*60*60)\n",
    "    mins=int(remseconds/60)\n",
    "    lastrem=remseconds-(mins*60)\n",
    "    print(hours,mins,lastrem)\n",
    "\n",
    "    \n",
    "time(3640)\n",
    "    \n"
   ]
  },
  {
   "cell_type": "code",
   "execution_count": 78,
   "metadata": {},
   "outputs": [
    {
     "name": "stdout",
     "output_type": "stream",
     "text": [
      "1\n",
      "2\n",
      "3\n",
      "4\n",
      "5\n",
      "6\n",
      "7\n",
      "8\n"
     ]
    }
   ],
   "source": [
    "def isunique(list):\n",
    "    uniquelist=[]\n",
    "    for i in list:\n",
    "        if i not in uniquelist:\n",
    "            uniquelist.append(i)\n",
    "    \n",
    "    for i in uniquelist:\n",
    "        print (i)\n",
    "\n",
    "list=[1,2,3,4,5,1,2,3,4,6,7,8,6,7]\n",
    "isunique(list)"
   ]
  },
  {
   "cell_type": "code",
   "execution_count": 93,
   "metadata": {},
   "outputs": [
    {
     "name": "stdout",
     "output_type": "stream",
     "text": [
      "6\n",
      "12\n",
      "18\n",
      "24\n",
      "30\n"
     ]
    }
   ],
   "source": [
    "def multiply(num1,num2):\n",
    "    for i in range(num2):\n",
    "        mul=(i+1)*num1\n",
    "        print (mul)\n",
    "multiply(6,5)"
   ]
  },
  {
   "cell_type": "code",
   "execution_count": null,
   "metadata": {},
   "outputs": [],
   "source": [
    "list=[4,5]\n",
    "expected output=([4,4],[5,5])"
   ]
  },
  {
   "cell_type": "code",
   "execution_count": 111,
   "metadata": {},
   "outputs": [
    {
     "name": "stdout",
     "output_type": "stream",
     "text": [
      "[1, 1, 1, 1, 1]\n",
      "[2, 2, 2, 2, 2]\n",
      "['&', '&', '&', '&', '&']\n",
      "['?', '?', '?', '?', '?']\n",
      "['%', '%', '%', '%', '%']\n"
     ]
    }
   ],
   "source": [
    "def unique(list):\n",
    "        for i in list:\n",
    "            print([i]*len(list))\n",
    "list=[1,2,'&','?',\"%\"]\n",
    "unique(list)"
   ]
  },
  {
   "cell_type": "code",
   "execution_count": 122,
   "metadata": {},
   "outputs": [
    {
     "ename": "TypeError",
     "evalue": "can only concatenate str (not \"int\") to str",
     "output_type": "error",
     "traceback": [
      "\u001b[1;31m---------------------------------------------------------------------------\u001b[0m",
      "\u001b[1;31mTypeError\u001b[0m                                 Traceback (most recent call last)",
      "\u001b[1;32m<ipython-input-122-1a6f72aa02cb>\u001b[0m in \u001b[0;36m<module>\u001b[1;34m\u001b[0m\n\u001b[0;32m     15\u001b[0m \u001b[1;33m\u001b[0m\u001b[0m\n\u001b[0;32m     16\u001b[0m \u001b[0mstring\u001b[0m\u001b[1;33m=\u001b[0m\u001b[1;34m\":):(:)\"\u001b[0m\u001b[1;33m\u001b[0m\u001b[1;33m\u001b[0m\u001b[0m\n\u001b[1;32m---> 17\u001b[1;33m \u001b[0mhappynumber\u001b[0m\u001b[1;33m(\u001b[0m\u001b[0mstring\u001b[0m\u001b[1;33m)\u001b[0m\u001b[1;33m\u001b[0m\u001b[1;33m\u001b[0m\u001b[0m\n\u001b[0m",
      "\u001b[1;32m<ipython-input-122-1a6f72aa02cb>\u001b[0m in \u001b[0;36mhappynumber\u001b[1;34m(string)\u001b[0m\n\u001b[0;32m      4\u001b[0m     \u001b[0mtotalfaces\u001b[0m\u001b[1;33m=\u001b[0m\u001b[1;36m0\u001b[0m\u001b[1;33m\u001b[0m\u001b[1;33m\u001b[0m\u001b[0m\n\u001b[0;32m      5\u001b[0m     \u001b[1;32mfor\u001b[0m \u001b[0mstr\u001b[0m \u001b[1;32min\u001b[0m \u001b[0mstring\u001b[0m\u001b[1;33m:\u001b[0m\u001b[1;33m\u001b[0m\u001b[1;33m\u001b[0m\u001b[0m\n\u001b[1;32m----> 6\u001b[1;33m         \u001b[1;32mif\u001b[0m \u001b[0mstr\u001b[0m\u001b[1;33m==\u001b[0m\u001b[1;34m':'\u001b[0m \u001b[1;32mand\u001b[0m \u001b[0mstr\u001b[0m\u001b[1;33m+\u001b[0m\u001b[1;36m1\u001b[0m\u001b[1;33m==\u001b[0m\u001b[1;34m\")\"\u001b[0m \u001b[1;33m:\u001b[0m\u001b[1;33m\u001b[0m\u001b[1;33m\u001b[0m\u001b[0m\n\u001b[0m\u001b[0;32m      7\u001b[0m             \u001b[0mhappy\u001b[0m\u001b[1;33m=\u001b[0m\u001b[0mhappy\u001b[0m\u001b[1;33m+\u001b[0m\u001b[1;36m1\u001b[0m\u001b[1;33m\u001b[0m\u001b[1;33m\u001b[0m\u001b[0m\n\u001b[0;32m      8\u001b[0m         \u001b[1;32melif\u001b[0m \u001b[0mstr\u001b[0m\u001b[1;33m==\u001b[0m\u001b[1;34m\"(\"\u001b[0m \u001b[1;32mand\u001b[0m \u001b[0mstr\u001b[0m\u001b[1;33m+\u001b[0m\u001b[1;36m1\u001b[0m\u001b[1;33m==\u001b[0m\u001b[1;34m\":\"\u001b[0m \u001b[1;33m:\u001b[0m\u001b[1;33m\u001b[0m\u001b[1;33m\u001b[0m\u001b[0m\n",
      "\u001b[1;31mTypeError\u001b[0m: can only concatenate str (not \"int\") to str"
     ]
    }
   ],
   "source": [
    "def happynumber(string):\n",
    "    happy=0\n",
    "    sad=0\n",
    "    totalfaces=0\n",
    "    for str in string:\n",
    "        if str==':' and str+1==\")\" :\n",
    "            happy=happy+1\n",
    "        elif str==\"(\" and str+1==\":\" :\n",
    "            happy=happy+1\n",
    "        else:\n",
    "            sad=sad+1\n",
    "    totalfaces=happy-sad\n",
    "    print (totalfaces)    \n",
    "            \n",
    "    \n",
    "string=\":):(:)\"\n",
    "happynumber(string)\n"
   ]
  },
  {
   "cell_type": "code",
   "execution_count": 134,
   "metadata": {},
   "outputs": [
    {
     "data": {
      "text/plain": [
       "'23'"
      ]
     },
     "execution_count": 134,
     "metadata": {},
     "output_type": "execute_result"
    }
   ],
   "source": [
    "def addconcat(a,b):\n",
    "    c=''\n",
    "    if isinstance(a,int)==True and isinstance(b,int)==True:\n",
    "        c=str(a)+str(b)\n",
    "    elif isinstance(a,str)==True and isinstance(b,str)==True:\n",
    "        c=int(a)+int(b)\n",
    "    else:\n",
    "        print(\"none\")\n",
    "    return c\n",
    "        \n",
    "addconcat(2,3)"
   ]
  },
  {
   "cell_type": "code",
   "execution_count": 140,
   "metadata": {},
   "outputs": [
    {
     "name": "stdout",
     "output_type": "stream",
     "text": [
      "Not equal\n"
     ]
    }
   ],
   "source": [
    "def issum(num1,num2):\n",
    "    sum1=0\n",
    "    sum2=0\n",
    "    c=0\n",
    "    d=0\n",
    "    while num1>0:\n",
    "        c=num1%10\n",
    "        sum1=sum1+c\n",
    "        num1=num1/10\n",
    "    while num2>0:\n",
    "        d=num2%10\n",
    "        sum2=sum2+d\n",
    "        num2=num2/10\n",
    "    if sum1==sum2:\n",
    "        print(\"yes they are equal\")\n",
    "    else:\n",
    "        print(\"Not equal\")\n",
    "\n",
    "        \n",
    "issum(106,340)"
   ]
  },
  {
   "cell_type": "code",
   "execution_count": 145,
   "metadata": {},
   "outputs": [
    {
     "name": "stdout",
     "output_type": "stream",
     "text": [
      "2143573220.2933333\n"
     ]
    }
   ],
   "source": [
    "def volume(s1,s2):\n",
    "    pi=3.14\n",
    "    volume=4/3*pi*((s1*s1*s1)-(s2*s2*s2))\n",
    "    if volume<0:\n",
    "        volume=0-(volume)\n",
    "    print(volume)\n",
    "volume(3,800)"
   ]
  },
  {
   "cell_type": "code",
   "execution_count": null,
   "metadata": {},
   "outputs": [],
   "source": []
  }
 ],
 "metadata": {
  "kernelspec": {
   "display_name": "Python 3",
   "language": "python",
   "name": "python3"
  },
  "language_info": {
   "codemirror_mode": {
    "name": "ipython",
    "version": 3
   },
   "file_extension": ".py",
   "mimetype": "text/x-python",
   "name": "python",
   "nbconvert_exporter": "python",
   "pygments_lexer": "ipython3",
   "version": "3.8.5"
  }
 },
 "nbformat": 4,
 "nbformat_minor": 4
}
